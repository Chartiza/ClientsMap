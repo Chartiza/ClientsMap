{
 "cells": [
  {
   "cell_type": "code",
   "execution_count": 1,
   "metadata": {},
   "outputs": [],
   "source": [
    "import pandas as pd\n",
    "import folium\n",
    "from folium import plugins\n",
    "import json\n",
    "import requests"
   ]
  },
  {
   "cell_type": "markdown",
   "metadata": {},
   "source": [
    "## Read input"
   ]
  },
  {
   "cell_type": "code",
   "execution_count": 11,
   "metadata": {},
   "outputs": [],
   "source": [
    "# Read input files \n",
    "clients = pd.read_excel('input_test/Clients.xlsx')\n",
    "comp = pd.read_excel('input_test/Comp.xlsx')\n",
    "cows = pd.read_excel('input_test/RusRegCows.xlsx')"
   ]
  },
  {
   "cell_type": "markdown",
   "metadata": {},
   "source": [
    "## Create map"
   ]
  },
  {
   "cell_type": "code",
   "execution_count": 12,
   "metadata": {},
   "outputs": [
    {
     "ename": "AttributeError",
     "evalue": "module 'folium' has no attribute 'Choropleth'",
     "output_type": "error",
     "traceback": [
      "\u001b[0;31m---------------------------------------------------------------------------\u001b[0m",
      "\u001b[0;31mAttributeError\u001b[0m                            Traceback (most recent call last)",
      "\u001b[0;32m<ipython-input-12-f5460c6f5b88>\u001b[0m in \u001b[0;36m<module>\u001b[0;34m()\u001b[0m\n\u001b[1;32m      7\u001b[0m \u001b[0;34m\u001b[0m\u001b[0m\n\u001b[1;32m      8\u001b[0m \u001b[0;31m# generate choropleth map\u001b[0m\u001b[0;34m\u001b[0m\u001b[0;34m\u001b[0m\u001b[0m\n\u001b[0;32m----> 9\u001b[0;31m folium.Choropleth(\n\u001b[0m\u001b[1;32m     10\u001b[0m     \u001b[0mgeo_data\u001b[0m\u001b[0;34m=\u001b[0m\u001b[0mrus_geo\u001b[0m\u001b[0;34m,\u001b[0m\u001b[0;34m\u001b[0m\u001b[0m\n\u001b[1;32m     11\u001b[0m     \u001b[0mdata\u001b[0m\u001b[0;34m=\u001b[0m\u001b[0mcows\u001b[0m\u001b[0;34m,\u001b[0m\u001b[0;34m\u001b[0m\u001b[0m\n",
      "\u001b[0;31mAttributeError\u001b[0m: module 'folium' has no attribute 'Choropleth'"
     ]
    }
   ],
   "source": [
    "# file name - file is located in the working directory\n",
    "rus_geo = r'input_test/russia.geojson' # geojson file\n",
    "# create map\n",
    "#cow_map = folium.Map(location=[66.5, 94.15], zoom_start=3, tiles='stamenwatercolor')\n",
    "cow_map = folium.Map(location=[66.5, 94.15], zoom_start=3, tiles='cartodbpositron')\n",
    "\n",
    "\n",
    "# generate choropleth map \n",
    "folium.Choropleth(\n",
    "    geo_data=rus_geo,\n",
    "    data=cows,\n",
    "    columns=['Region', 'BreedingCows,тыс.гол.'],\n",
    "    key_on='feature.properties.name',\n",
    "    fill_color='YlGnBu', \n",
    "    fill_opacity=0.5, \n",
    "    line_opacity=1,\n",
    "    legend_name='Breeding Cows Number',\n",
    "    weight=2,\n",
    "    smooth_factor=0).add_to(cow_map)\n",
    "\n",
    "for i in range(0,len(clients)):\n",
    "    \n",
    "    folium.Marker(\n",
    "    location=[clients['Latitude'][i], clients['Longitude'][i]],\n",
    "    popup=clients['Company'][i],\n",
    "    #popup=clients['ProbeMonth'][i],\n",
    "    icon=folium.Icon(color='green', icon='heart')).add_to(cow_map)\n",
    "    \n",
    "for i in range(0,len(comp)):\n",
    "    \n",
    "    folium.Marker(\n",
    "    location=[comp['Latitude'][i], comp['Longitude'][i]],\n",
    "    popup=comp['Company'][i],\n",
    "    icon=folium.Icon(color='orange', icon='bell')).add_to(cow_map)\n",
    "\n",
    "\n",
    "folium.LayerControl().add_to(cow_map)\n",
    "\n",
    "cow_map.save(os.path.join('results', 'results/MILK-MAP.html'))\n",
    "\n",
    "cow_map"
   ]
  }
 ],
 "metadata": {
  "kernelspec": {
   "display_name": "Python 3",
   "language": "python",
   "name": "python3"
  },
  "language_info": {
   "codemirror_mode": {
    "name": "ipython",
    "version": 3
   },
   "file_extension": ".py",
   "mimetype": "text/x-python",
   "name": "python",
   "nbconvert_exporter": "python",
   "pygments_lexer": "ipython3",
   "version": "3.6.4"
  }
 },
 "nbformat": 4,
 "nbformat_minor": 2
}
